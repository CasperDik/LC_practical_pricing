{
 "cells": [
  {
   "cell_type": "markdown",
   "metadata": {},
   "source": [
    "# Starting with Python "
   ]
  },
  {
   "cell_type": "markdown",
   "metadata": {},
   "source": [
    "Let us first explore some essentials of the coding language, Python, and of the Jupyter notebook environment that we use here to execute Python code.\n",
    "\n",
    "In this notebook, you'll find different blocks of text or code. Such blocks are called cells. The one you are reading now is a text cell. Text cells are written using the ***Markdown*** language, which apart from plain text also allows you to encode some layout features, as well as mathematical equations, for example, $f(x)=x^2$, an inline equation, or\n",
    "$$\n",
    "\\sum_{n=1}^\\infty \\frac{1}{n^2}=\\frac{\\pi^2}{6},\n",
    "$$\n",
    "an equation box. (The language for writing equations is Latex).\n",
    "\n",
    "If you select this cell (assuming you are reading it in the Jupyter environment) there will be a colored bar on its left-side, and in the dropdown box on top of this page you'll see that it is written in Markdown language. The colored bar can be be blue (when you are in Jupyter's command mode), or in green (in that case you can edit the cell). To get from command mode to edit mode, press `enter`. To get back to command mode, press escape. To get an overview of the different commands available in command mode, press the little keyboard icon on top of this page. **Try this! Exercise:** Find out how to create a new, empty cell below the one you have selected. And how to delete a cell."
   ]
  },
  {
   "cell_type": "markdown",
   "metadata": {},
   "source": [
    "When in edit mode (the green bar on the left) you can get Jupyter to interpret/ execute the cell (whether it is text in Markdown, or Python code) by pressing `shift + enter`. **Try this, too!**"
   ]
  },
  {
   "cell_type": "markdown",
   "metadata": {},
   "source": [
    "Python code tells the computer to do computations. As an example consider the following cell in this notebook."
   ]
  },
  {
   "cell_type": "code",
   "execution_count": null,
   "metadata": {},
   "outputs": [],
   "source": [
    "3+5"
   ]
  },
  {
   "cell_type": "markdown",
   "metadata": {},
   "source": [
    "To interpret this as a piece of Python code, Jupyter needs to know it is code, not text. Make sure that when you select the cell, the dropdown box on top of the page says Code (not Markdown, or anything else); change it if necessary. Then execute the code by pressing `shift + enter`. Hopefully, the correct result appears below the cell."
   ]
  },
  {
   "cell_type": "markdown",
   "metadata": {},
   "source": [
    "To make an actual program to compute option values, we need a bit more Python. First, we can store numerical results in variables. For example, the code"
   ]
  },
  {
   "cell_type": "code",
   "execution_count": null,
   "metadata": {},
   "outputs": [],
   "source": [
    "some_number=10"
   ]
  },
  {
   "cell_type": "markdown",
   "metadata": {},
   "source": [
    "when executed (**do this**), will assign the value 10 to the variable named some_number. If a variable has been assigned a value, you can retrieve this value, as follows,"
   ]
  },
  {
   "cell_type": "code",
   "execution_count": null,
   "metadata": {},
   "outputs": [],
   "source": [
    "some_number"
   ]
  },
  {
   "cell_type": "markdown",
   "metadata": {},
   "source": [
    "(**execute this**), or use it in new computations, as in"
   ]
  },
  {
   "cell_type": "code",
   "execution_count": null,
   "metadata": {},
   "outputs": [],
   "source": [
    "2*some_number "
   ]
  },
  {
   "cell_type": "markdown",
   "metadata": {},
   "source": [
    "(compute that too)."
   ]
  },
  {
   "cell_type": "markdown",
   "metadata": {},
   "source": [
    "We can also reassign a new value to this variable, overwriting the old information. The reassigning itself might involve using the old information, like this:"
   ]
  },
  {
   "cell_type": "code",
   "execution_count": null,
   "metadata": {},
   "outputs": [],
   "source": [
    "some_number=2*some_number"
   ]
  },
  {
   "cell_type": "markdown",
   "metadata": {},
   "source": [
    "Execute that and check if you understand why new value of some_number is what it is."
   ]
  },
  {
   "cell_type": "markdown",
   "metadata": {},
   "source": [
    "## Functions "
   ]
  },
  {
   "cell_type": "markdown",
   "metadata": {},
   "source": [
    "Programs involve sequences of lots of different basic operations on variables. It is useful to collect some of the sets of operations that you might have to repeat more often into functions, which you can define yourself. For instance, let us make a function called MySquare that takes a number, and squares it:  "
   ]
  },
  {
   "cell_type": "code",
   "execution_count": null,
   "metadata": {},
   "outputs": [],
   "source": [
    "def MySquare(a):\n",
    "    result = a**2\n",
    "    return result"
   ]
  },
  {
   "cell_type": "markdown",
   "metadata": {},
   "source": [
    "Note the format: def means that you define a function. After the name of the function you have to add brackets, plus the arguments that go into the function, and the line ends with a colon : . The content lines of the function need to be indented (so Python knows which lines belong in this function), and end with a return-statement, which tells Python which value the function should return.\n",
    "\n",
    "Functions can operate on a value, or on a variable that has a value, e.g"
   ]
  },
  {
   "cell_type": "code",
   "execution_count": null,
   "metadata": {},
   "outputs": [],
   "source": [
    "x=2\n",
    "MySquare(3), MySquare(x)"
   ]
  },
  {
   "cell_type": "markdown",
   "metadata": {},
   "source": [
    "Functions can also have multiple arguments. As an exercise, make a function that computes the sum of two squares, $x^2+y^2$, from inputs $x$ and $y$. Then use it to compute $3^2+4^2$. Use the following template:\n"
   ]
  },
  {
   "cell_type": "code",
   "execution_count": null,
   "metadata": {},
   "outputs": [],
   "source": [
    "def MySumOfSquares(x,y):\n",
    "    ..."
   ]
  },
  {
   "cell_type": "markdown",
   "metadata": {},
   "source": [
    "## Numpy "
   ]
  },
  {
   "cell_type": "markdown",
   "metadata": {},
   "source": [
    "Next, we need lists of numbers, and do computations with them. In this series of meetings, we will usually do that using a library of additional python functions called **numpy**. To use those, we have to first import that library, as follows: "
   ]
  },
  {
   "cell_type": "code",
   "execution_count": null,
   "metadata": {},
   "outputs": [],
   "source": [
    "import numpy as np"
   ]
  },
  {
   "cell_type": "markdown",
   "metadata": {},
   "source": [
    "Once you have executed that cell, we can use all functionality incorporated into numpy by preceding these functions with np. As an example, there is a useful command in numpy which is called **linspace**. It creates an array of evenly spaced numbers between a starting value and an end value. For example"
   ]
  },
  {
   "cell_type": "code",
   "execution_count": null,
   "metadata": {},
   "outputs": [],
   "source": [
    "y=np.linspace(0,4,5)"
   ]
  },
  {
   "cell_type": "markdown",
   "metadata": {},
   "source": [
    "Check out what the created variable y looks like,"
   ]
  },
  {
   "cell_type": "code",
   "execution_count": null,
   "metadata": {},
   "outputs": [],
   "source": [
    "y"
   ]
  },
  {
   "cell_type": "markdown",
   "metadata": {},
   "source": [
    "and also create an array z which consists of the numbers $1.0,  1.1, \\ldots, 1.9, 2.0$."
   ]
  },
  {
   "cell_type": "code",
   "execution_count": null,
   "metadata": {},
   "outputs": [],
   "source": []
  },
  {
   "cell_type": "markdown",
   "metadata": {},
   "source": [
    "Other useful predefined arrays are **np.zeros(n)** (an array of n zeros, where n is a number you can choose) and **np.ones(n)**. Try those as well. "
   ]
  },
  {
   "cell_type": "code",
   "execution_count": null,
   "metadata": {},
   "outputs": [],
   "source": []
  },
  {
   "cell_type": "markdown",
   "metadata": {},
   "source": [
    "The nice thing about numpy arrays is that you can do computations on them, e.g. "
   ]
  },
  {
   "cell_type": "code",
   "execution_count": null,
   "metadata": {},
   "outputs": [],
   "source": [
    "x1 = 2*np.ones(5)\n",
    "x2 = x1 + np.ones(5)\n",
    "x3 = np.linspace(0,4,5)\n",
    "x4 = x1**x3\n",
    "x5 = MySquare(x3)"
   ]
  },
  {
   "cell_type": "markdown",
   "metadata": {},
   "source": [
    "Execute this, and check what those computations did. Make sure you understand."
   ]
  },
  {
   "cell_type": "code",
   "execution_count": null,
   "metadata": {},
   "outputs": [],
   "source": [
    "x5"
   ]
  },
  {
   "cell_type": "markdown",
   "metadata": {},
   "source": [
    "If you do something that is not possible, or ambiguous, Python will complain with an error message (that will not always be intelligible to us), e.g. execute"
   ]
  },
  {
   "cell_type": "code",
   "execution_count": null,
   "metadata": {},
   "outputs": [],
   "source": [
    "np.zeros(3)+ np.zeros(4)"
   ]
  },
  {
   "cell_type": "markdown",
   "metadata": {},
   "source": [
    "## Plotting"
   ]
  },
  {
   "cell_type": "markdown",
   "metadata": {},
   "source": [
    "We will need to plot some graphs later. The library of functions that we will have to import to plot graphs is called matplotlib,  and in particular the sublibrary called .pyplot Let us import it, and give it the name plt as follows"
   ]
  },
  {
   "cell_type": "code",
   "execution_count": null,
   "metadata": {},
   "outputs": [],
   "source": [
    "import matplotlib.pyplot as plt\n",
    "%matplotlib inline"
   ]
  },
  {
   "cell_type": "markdown",
   "metadata": {},
   "source": [
    "The second line, starting with %, tells the notebook to depict the graphs right here in the notebook (instead of saving it elsewhere). \n",
    "In order to plot a graph of some function $f(x)$, we need to compute a set of points on the graphs: a set of values for $x$, coupled with the associated $y$-coordinates, $y=f(x)$. Let us make these for the square function:\n",
    "$$\n",
    "f(x)=x^2.\n",
    "$$\n",
    "We can use the `MySquare()` function we defined above."
   ]
  },
  {
   "cell_type": "code",
   "execution_count": null,
   "metadata": {},
   "outputs": [],
   "source": [
    "xs= np.linspace(-2,2,10)\n",
    "ys=MySquare(xs)\n",
    "# Note: we could also directly write ys= xs**2 for this simple function"
   ]
  },
  {
   "cell_type": "markdown",
   "metadata": {},
   "source": [
    "We now have an array of ten x-values and associated y-values; we can plot the graph by plotting these points with a line to connect them. "
   ]
  },
  {
   "cell_type": "code",
   "execution_count": null,
   "metadata": {},
   "outputs": [],
   "source": [
    "fig, ax = plt.subplots()\n",
    "# subplots is a function in pyplot that returns a figure, which we call fig here, \n",
    "# and the actual plotting area inside this figure itself (including the axes), called ax\n",
    "# We can work with this ax object and assign it extra properties, in particular the graph \n",
    "# that we want to plot in it.\n",
    "\n",
    "ax.plot(xs,ys)"
   ]
  },
  {
   "cell_type": "markdown",
   "metadata": {},
   "source": [
    "If you execute the plotting commands, you will see the graph obtained by connecting the ten (x,y)-coordinate points with straight line segments. If you want a smoother plot, create an array consisting of more points (**Do that!**). Also, you can plot the function over a wider array (e.g. between -4 and 4). "
   ]
  },
  {
   "cell_type": "markdown",
   "metadata": {},
   "source": [
    "We now created the default plot of this graph. ax.plot has a lot of additional possible input arguments, which you can find out about by googling. For instance, try to plot the graph in a different color, or using dashed lines. "
   ]
  },
  {
   "cell_type": "markdown",
   "metadata": {},
   "source": [
    "## Two exercises"
   ]
  },
  {
   "cell_type": "markdown",
   "metadata": {},
   "source": [
    "###  1. An infinite sum"
   ]
  },
  {
   "cell_type": "markdown",
   "metadata": {},
   "source": [
    "In the introduction, you saw an example of an equation, \n",
    "$$\n",
    "\\sum_{n=1}^\\infty \\frac{1}{n^2}=\\frac{\\pi^2}{6},\n",
    "$$\n",
    "or in words, if you add up the inverted squares of all positive integers, the result is $\\frac{\\pi^2}{6}$. \n",
    "Let us try to verify this numerically, by letting Python add up the terms. Now, of course, Python cannot add up infinitely many terms, but we can see whether the answer gets us closer to that value if we add more and more terms.\n",
    "\n",
    "Try to draw the sums (for increasing numbers of terms) in a graph: on the horizontal axis, it should have the number of terms that we will sum together, and on the y-axis, the result of adding up these terms. So, for $x=1$ the $y$-value is going to be\n",
    "$$\n",
    "y(1)=\\frac{1}{1^2},\n",
    "$$\n",
    "for $x=2$\n",
    "$$\n",
    "y=\\frac{1}{1^2}+\\frac{1}{2^2}= 1.25,\n",
    "$$\n",
    "etcetera. As $x$ gets larger and larger, the graph should get closer and closer to the $y$-value $\\pi^2/6$.\n",
    "\n",
    "To do this, \n",
    "* first make an array of all positive integers up to some large value \n",
    "* from this array, compute a new array that will contain all inverted squares\n",
    "* now we have to add up the elements in this array. Experiment with the numpy function np.cumsum() , acting on a numpy array, to find out how it works and use it\n",
    "* plot the graph\n",
    "* in the graph, also add a horizontal line at the value $y=\\pi^2/6$. To do so, use numpy's value of $\\pi$, np.pi and draw a horizontal line with the statement ax.axhline(...) where you insert the required $y$-value as an argument. "
   ]
  },
  {
   "cell_type": "code",
   "execution_count": null,
   "metadata": {},
   "outputs": [],
   "source": []
  },
  {
   "cell_type": "code",
   "execution_count": null,
   "metadata": {},
   "outputs": [],
   "source": []
  },
  {
   "cell_type": "markdown",
   "metadata": {},
   "source": [
    "### 2. The Black-Scholes formula"
   ]
  },
  {
   "cell_type": "markdown",
   "metadata": {},
   "source": [
    "A European call option on a stock with value $S$, with a strike price $K$, is a financial contract that, at a predetermined time $T$ (the maturity date) pays the holder of that option a value equal to $S-K$ if $S>K$, and zero otherwise. (Put differently, it gives the holder the right to buy the stock at a price $K$; if $S>K$, this right will have value $S-K$, while if $S<K$ the holder will prefer not to exercise his right and earn zero.)\n",
    "\n",
    "As a first exercise, draw a graph of this pay-out function $f(S)$, which equals $S-K$ for $S>K$, and $0$ for lower values of $S$. Choose strike price $K=50$, and let $S$ range from 0 to 100. You may want to use the **numpy** function **maximum**, experiment with it to see how it works. "
   ]
  },
  {
   "cell_type": "code",
   "execution_count": null,
   "metadata": {},
   "outputs": [],
   "source": []
  },
  {
   "cell_type": "markdown",
   "metadata": {},
   "source": [
    "Next, we will plot the value of this call option today, a time $T$ before the maturity date. Under some assumptions on the process describing the evolution of the stock price, the price $C(S)$, of such a European call option is given by the Black-Scholes formula, \n",
    "$$\n",
    "C(S)= SN(d_1)- e^{-rT} K N(d_2)\n",
    "$$\n",
    "where $r$ is the interest rate, $N$ is the distribution function of the standard normal distribution,\n",
    "\\begin{align}\n",
    "d_1 & =\\frac{1}{\\sigma \\sqrt{T}}\\left( \\ln\\left(\\frac{S}{K}\\right)+\\left(r+\\frac{\\sigma^2}{2}\\right)T\\right),\\\\\n",
    "d_2 & =\\frac{1}{\\sigma \\sqrt{T}}\\left( \\ln\\left(\\frac{S}{K}\\right)+\\left(r-\\frac{\\sigma^2}{2}\\right)T\\right),\n",
    "\\end{align}\n",
    "and, finally, $\\sigma$ is the stock's volatility.\n",
    "\n",
    "* First, assign values to the various parameters that we will need: $T=1$, $r=0.05$, $K=50$ and $\\sigma=0.2$. \n",
    "* In computing the Black-Scholes formula, we will need the pre-defined standard normal distribution function $N$. This is defined in a separate library, **scipy.stats**. Import it as follows:"
   ]
  },
  {
   "cell_type": "code",
   "execution_count": null,
   "metadata": {},
   "outputs": [],
   "source": [
    "from scipy.stats import norm"
   ]
  },
  {
   "cell_type": "markdown",
   "metadata": {},
   "source": [
    "* Now you can use the required distribution function, called norm.cdf()\n",
    "* Then define a function $C(S)$ that computes the Black-Scholes formula. You will also need the exponential and logarithmic functions in **numpy**,  **np.exp()** and **np.log()**, as well as the squareroot **np.sqrt()**.\n",
    "* plot the function $C(S)$ for values of $S$ between 0.01 and 100. Also, plot the pay-off function you defined above in the same plot."
   ]
  },
  {
   "cell_type": "code",
   "execution_count": null,
   "metadata": {},
   "outputs": [],
   "source": []
  },
  {
   "cell_type": "code",
   "execution_count": null,
   "metadata": {},
   "outputs": [],
   "source": []
  },
  {
   "cell_type": "markdown",
   "metadata": {},
   "source": [
    "You can experiment with this. For example, check that as the time to maturity $T$ gets very small, the Black-Scholes value is very close to the pay-off function."
   ]
  },
  {
   "cell_type": "markdown",
   "metadata": {},
   "source": [
    "### Python resources"
   ]
  },
  {
   "cell_type": "markdown",
   "metadata": {},
   "source": [
    "We only covered a very small part of Python, and will have a look at other topics as we need them for our project. To access some broader basics on Python, you might want to check out some online books or online courses. Examples are **Codecademy** (a basic course), **Automate the boring stuff**, or **Think Python**. An econ-oriented course is **quantecon.org** . Doing the first bits of any of these will typically be quite sufficient for starters.\n",
    "\n",
    "To find out more about available Python functions to do what you need for your project, it usually helps to google \"Python, your question\". This will often take you to the Python documentation, and to forums of Python users (such as stackexchange)."
   ]
  },
  {
   "cell_type": "code",
   "execution_count": null,
   "metadata": {},
   "outputs": [],
   "source": []
  }
 ],
 "metadata": {
  "kernelspec": {
   "display_name": "Python 3",
   "language": "python",
   "name": "python3"
  },
  "language_info": {
   "codemirror_mode": {
    "name": "ipython",
    "version": 3
   },
   "file_extension": ".py",
   "mimetype": "text/x-python",
   "name": "python",
   "nbconvert_exporter": "python",
   "pygments_lexer": "ipython3",
   "version": "3.8.3"
  }
 },
 "nbformat": 4,
 "nbformat_minor": 2
}
